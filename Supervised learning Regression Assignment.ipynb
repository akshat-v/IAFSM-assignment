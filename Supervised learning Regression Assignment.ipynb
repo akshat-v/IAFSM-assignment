{
  "cells": [
    {
      "cell_type": "code",
      "source": [
        "Importing libraries \n"
      ],
      "metadata": {
        "id": "kXtuGGg7SJwv"
      },
      "execution_count": null,
      "outputs": []
    },
    {
      "cell_type": "code",
      "execution_count": 1,
      "metadata": {
        "_cell_guid": "b1076dfc-b9ad-4769-8c92-a6c4dae69d19",
        "_uuid": "8f2839f25d086af736a60e9eeb907d3b93b6e0e5",
        "execution": {
          "iopub.execute_input": "2021-08-13T05:16:57.992216Z",
          "iopub.status.busy": "2021-08-13T05:16:57.991135Z",
          "iopub.status.idle": "2021-08-13T05:17:00.162999Z",
          "shell.execute_reply": "2021-08-13T05:17:00.163674Z",
          "shell.execute_reply.started": "2021-08-13T05:15:55.030870Z"
        },
        "papermill": {
          "duration": 2.203396,
          "end_time": "2021-08-13T05:17:00.163877",
          "exception": false,
          "start_time": "2021-08-13T05:16:57.960481",
          "status": "completed"
        },
        "tags": [],
        "id": "jsKOqb5zH9ch"
      },
      "outputs": [],
      "source": [
        "import numpy as np\n",
        "import scipy.stats as s\n",
        "import pandas as pd\n",
        "import matplotlib.pyplot as plt\n",
        "import plotly.express as px\n",
        "import seaborn as sns\n",
        "import plotly as py\n",
        "sns.set_style('darkgrid')\n",
        "from tqdm.notebook import tqdm_notebook\n"
      ]
    },
    {
      "cell_type": "markdown",
      "source": [
        "Reading dataset\n",
        "Please change path as necessary"
      ],
      "metadata": {
        "id": "zyV_1KZdTiiI"
      }
    },
    {
      "cell_type": "code",
      "execution_count": 2,
      "metadata": {
        "execution": {
          "iopub.execute_input": "2021-08-13T05:17:00.224608Z",
          "iopub.status.busy": "2021-08-13T05:17:00.223601Z",
          "iopub.status.idle": "2021-08-13T05:17:00.250616Z",
          "shell.execute_reply": "2021-08-13T05:17:00.251240Z",
          "shell.execute_reply.started": "2021-08-13T05:15:55.039162Z"
        },
        "papermill": {
          "duration": 0.059715,
          "end_time": "2021-08-13T05:17:00.251397",
          "exception": false,
          "start_time": "2021-08-13T05:17:00.191682",
          "status": "completed"
        },
        "tags": [],
        "id": "uz4HPaouH9ci"
      },
      "outputs": [],
      "source": [
        "raw_data = pd.read_csv(\"/content/Medical Price Dataset (1).csv\")"
      ]
    },
    {
      "cell_type": "code",
      "execution_count": 3,
      "metadata": {
        "execution": {
          "iopub.execute_input": "2021-08-13T05:17:00.310609Z",
          "iopub.status.busy": "2021-08-13T05:17:00.309605Z",
          "iopub.status.idle": "2021-08-13T05:17:00.333251Z",
          "shell.execute_reply": "2021-08-13T05:17:00.332610Z",
          "shell.execute_reply.started": "2021-08-13T05:15:55.064106Z"
        },
        "papermill": {
          "duration": 0.054493,
          "end_time": "2021-08-13T05:17:00.333391",
          "exception": false,
          "start_time": "2021-08-13T05:17:00.278898",
          "status": "completed"
        },
        "tags": [],
        "colab": {
          "base_uri": "https://localhost:8080/",
          "height": 363
        },
        "id": "Ou21HBkWH9cj",
        "outputId": "a9eeebef-2986-48d5-f605-10629195b4d9"
      },
      "outputs": [
        {
          "output_type": "execute_result",
          "data": {
            "text/plain": [
              "   age     sex     bmi  children smoker     region      charges\n",
              "0   19  female  27.900         0    yes  southwest  16884.92400\n",
              "1   18    male  33.770         1     no  southeast   1725.55230\n",
              "2   28    male  33.000         3     no  southeast   4449.46200\n",
              "3   33    male  22.705         0     no  northwest  21984.47061\n",
              "4   32    male  28.880         0     no  northwest   3866.85520\n",
              "5   31  female  25.740         0     no  southeast   3756.62160\n",
              "6   46  female  33.440         1     no  southeast   8240.58960\n",
              "7   37  female  27.740         3     no  northwest   7281.50560\n",
              "8   37    male  29.830         2     no  northeast   6406.41070\n",
              "9   60  female  25.840         0     no  northwest  28923.13692"
            ],
            "text/html": [
              "\n",
              "  <div id=\"df-1314d2a0-d1b9-4568-ac73-52728ff63cd0\">\n",
              "    <div class=\"colab-df-container\">\n",
              "      <div>\n",
              "<style scoped>\n",
              "    .dataframe tbody tr th:only-of-type {\n",
              "        vertical-align: middle;\n",
              "    }\n",
              "\n",
              "    .dataframe tbody tr th {\n",
              "        vertical-align: top;\n",
              "    }\n",
              "\n",
              "    .dataframe thead th {\n",
              "        text-align: right;\n",
              "    }\n",
              "</style>\n",
              "<table border=\"1\" class=\"dataframe\">\n",
              "  <thead>\n",
              "    <tr style=\"text-align: right;\">\n",
              "      <th></th>\n",
              "      <th>age</th>\n",
              "      <th>sex</th>\n",
              "      <th>bmi</th>\n",
              "      <th>children</th>\n",
              "      <th>smoker</th>\n",
              "      <th>region</th>\n",
              "      <th>charges</th>\n",
              "    </tr>\n",
              "  </thead>\n",
              "  <tbody>\n",
              "    <tr>\n",
              "      <th>0</th>\n",
              "      <td>19</td>\n",
              "      <td>female</td>\n",
              "      <td>27.900</td>\n",
              "      <td>0</td>\n",
              "      <td>yes</td>\n",
              "      <td>southwest</td>\n",
              "      <td>16884.92400</td>\n",
              "    </tr>\n",
              "    <tr>\n",
              "      <th>1</th>\n",
              "      <td>18</td>\n",
              "      <td>male</td>\n",
              "      <td>33.770</td>\n",
              "      <td>1</td>\n",
              "      <td>no</td>\n",
              "      <td>southeast</td>\n",
              "      <td>1725.55230</td>\n",
              "    </tr>\n",
              "    <tr>\n",
              "      <th>2</th>\n",
              "      <td>28</td>\n",
              "      <td>male</td>\n",
              "      <td>33.000</td>\n",
              "      <td>3</td>\n",
              "      <td>no</td>\n",
              "      <td>southeast</td>\n",
              "      <td>4449.46200</td>\n",
              "    </tr>\n",
              "    <tr>\n",
              "      <th>3</th>\n",
              "      <td>33</td>\n",
              "      <td>male</td>\n",
              "      <td>22.705</td>\n",
              "      <td>0</td>\n",
              "      <td>no</td>\n",
              "      <td>northwest</td>\n",
              "      <td>21984.47061</td>\n",
              "    </tr>\n",
              "    <tr>\n",
              "      <th>4</th>\n",
              "      <td>32</td>\n",
              "      <td>male</td>\n",
              "      <td>28.880</td>\n",
              "      <td>0</td>\n",
              "      <td>no</td>\n",
              "      <td>northwest</td>\n",
              "      <td>3866.85520</td>\n",
              "    </tr>\n",
              "    <tr>\n",
              "      <th>5</th>\n",
              "      <td>31</td>\n",
              "      <td>female</td>\n",
              "      <td>25.740</td>\n",
              "      <td>0</td>\n",
              "      <td>no</td>\n",
              "      <td>southeast</td>\n",
              "      <td>3756.62160</td>\n",
              "    </tr>\n",
              "    <tr>\n",
              "      <th>6</th>\n",
              "      <td>46</td>\n",
              "      <td>female</td>\n",
              "      <td>33.440</td>\n",
              "      <td>1</td>\n",
              "      <td>no</td>\n",
              "      <td>southeast</td>\n",
              "      <td>8240.58960</td>\n",
              "    </tr>\n",
              "    <tr>\n",
              "      <th>7</th>\n",
              "      <td>37</td>\n",
              "      <td>female</td>\n",
              "      <td>27.740</td>\n",
              "      <td>3</td>\n",
              "      <td>no</td>\n",
              "      <td>northwest</td>\n",
              "      <td>7281.50560</td>\n",
              "    </tr>\n",
              "    <tr>\n",
              "      <th>8</th>\n",
              "      <td>37</td>\n",
              "      <td>male</td>\n",
              "      <td>29.830</td>\n",
              "      <td>2</td>\n",
              "      <td>no</td>\n",
              "      <td>northeast</td>\n",
              "      <td>6406.41070</td>\n",
              "    </tr>\n",
              "    <tr>\n",
              "      <th>9</th>\n",
              "      <td>60</td>\n",
              "      <td>female</td>\n",
              "      <td>25.840</td>\n",
              "      <td>0</td>\n",
              "      <td>no</td>\n",
              "      <td>northwest</td>\n",
              "      <td>28923.13692</td>\n",
              "    </tr>\n",
              "  </tbody>\n",
              "</table>\n",
              "</div>\n",
              "      <button class=\"colab-df-convert\" onclick=\"convertToInteractive('df-1314d2a0-d1b9-4568-ac73-52728ff63cd0')\"\n",
              "              title=\"Convert this dataframe to an interactive table.\"\n",
              "              style=\"display:none;\">\n",
              "        \n",
              "  <svg xmlns=\"http://www.w3.org/2000/svg\" height=\"24px\"viewBox=\"0 0 24 24\"\n",
              "       width=\"24px\">\n",
              "    <path d=\"M0 0h24v24H0V0z\" fill=\"none\"/>\n",
              "    <path d=\"M18.56 5.44l.94 2.06.94-2.06 2.06-.94-2.06-.94-.94-2.06-.94 2.06-2.06.94zm-11 1L8.5 8.5l.94-2.06 2.06-.94-2.06-.94L8.5 2.5l-.94 2.06-2.06.94zm10 10l.94 2.06.94-2.06 2.06-.94-2.06-.94-.94-2.06-.94 2.06-2.06.94z\"/><path d=\"M17.41 7.96l-1.37-1.37c-.4-.4-.92-.59-1.43-.59-.52 0-1.04.2-1.43.59L10.3 9.45l-7.72 7.72c-.78.78-.78 2.05 0 2.83L4 21.41c.39.39.9.59 1.41.59.51 0 1.02-.2 1.41-.59l7.78-7.78 2.81-2.81c.8-.78.8-2.07 0-2.86zM5.41 20L4 18.59l7.72-7.72 1.47 1.35L5.41 20z\"/>\n",
              "  </svg>\n",
              "      </button>\n",
              "      \n",
              "  <style>\n",
              "    .colab-df-container {\n",
              "      display:flex;\n",
              "      flex-wrap:wrap;\n",
              "      gap: 12px;\n",
              "    }\n",
              "\n",
              "    .colab-df-convert {\n",
              "      background-color: #E8F0FE;\n",
              "      border: none;\n",
              "      border-radius: 50%;\n",
              "      cursor: pointer;\n",
              "      display: none;\n",
              "      fill: #1967D2;\n",
              "      height: 32px;\n",
              "      padding: 0 0 0 0;\n",
              "      width: 32px;\n",
              "    }\n",
              "\n",
              "    .colab-df-convert:hover {\n",
              "      background-color: #E2EBFA;\n",
              "      box-shadow: 0px 1px 2px rgba(60, 64, 67, 0.3), 0px 1px 3px 1px rgba(60, 64, 67, 0.15);\n",
              "      fill: #174EA6;\n",
              "    }\n",
              "\n",
              "    [theme=dark] .colab-df-convert {\n",
              "      background-color: #3B4455;\n",
              "      fill: #D2E3FC;\n",
              "    }\n",
              "\n",
              "    [theme=dark] .colab-df-convert:hover {\n",
              "      background-color: #434B5C;\n",
              "      box-shadow: 0px 1px 3px 1px rgba(0, 0, 0, 0.15);\n",
              "      filter: drop-shadow(0px 1px 2px rgba(0, 0, 0, 0.3));\n",
              "      fill: #FFFFFF;\n",
              "    }\n",
              "  </style>\n",
              "\n",
              "      <script>\n",
              "        const buttonEl =\n",
              "          document.querySelector('#df-1314d2a0-d1b9-4568-ac73-52728ff63cd0 button.colab-df-convert');\n",
              "        buttonEl.style.display =\n",
              "          google.colab.kernel.accessAllowed ? 'block' : 'none';\n",
              "\n",
              "        async function convertToInteractive(key) {\n",
              "          const element = document.querySelector('#df-1314d2a0-d1b9-4568-ac73-52728ff63cd0');\n",
              "          const dataTable =\n",
              "            await google.colab.kernel.invokeFunction('convertToInteractive',\n",
              "                                                     [key], {});\n",
              "          if (!dataTable) return;\n",
              "\n",
              "          const docLinkHtml = 'Like what you see? Visit the ' +\n",
              "            '<a target=\"_blank\" href=https://colab.research.google.com/notebooks/data_table.ipynb>data table notebook</a>'\n",
              "            + ' to learn more about interactive tables.';\n",
              "          element.innerHTML = '';\n",
              "          dataTable['output_type'] = 'display_data';\n",
              "          await google.colab.output.renderOutput(dataTable, element);\n",
              "          const docLink = document.createElement('div');\n",
              "          docLink.innerHTML = docLinkHtml;\n",
              "          element.appendChild(docLink);\n",
              "        }\n",
              "      </script>\n",
              "    </div>\n",
              "  </div>\n",
              "  "
            ]
          },
          "metadata": {},
          "execution_count": 3
        }
      ],
      "source": [
        "raw_data.head(10)"
      ]
    },
    {
      "cell_type": "markdown",
      "source": [
        "Seeing the dataset and EDA\n"
      ],
      "metadata": {
        "id": "h5Eash-TSSI5"
      }
    },
    {
      "cell_type": "code",
      "execution_count": 4,
      "metadata": {
        "execution": {
          "iopub.execute_input": "2021-08-13T05:17:00.405223Z",
          "iopub.status.busy": "2021-08-13T05:17:00.404500Z",
          "iopub.status.idle": "2021-08-13T05:17:00.425485Z",
          "shell.execute_reply": "2021-08-13T05:17:00.424943Z",
          "shell.execute_reply.started": "2021-08-13T05:15:55.086620Z"
        },
        "papermill": {
          "duration": 0.063935,
          "end_time": "2021-08-13T05:17:00.425613",
          "exception": false,
          "start_time": "2021-08-13T05:17:00.361678",
          "status": "completed"
        },
        "tags": [],
        "colab": {
          "base_uri": "https://localhost:8080/",
          "height": 300
        },
        "id": "pIBV-pjWH9cl",
        "outputId": "35283db4-6ccf-4642-dc58-7d16dc59c3dd"
      },
      "outputs": [
        {
          "output_type": "execute_result",
          "data": {
            "text/plain": [
              "               age          bmi     children       charges\n",
              "count  1338.000000  1338.000000  1338.000000   1338.000000\n",
              "mean     39.207025    30.663397     1.094918  13270.422265\n",
              "std      14.049960     6.098187     1.205493  12110.011237\n",
              "min      18.000000    15.960000     0.000000   1121.873900\n",
              "25%      27.000000    26.296250     0.000000   4740.287150\n",
              "50%      39.000000    30.400000     1.000000   9382.033000\n",
              "75%      51.000000    34.693750     2.000000  16639.912515\n",
              "max      64.000000    53.130000     5.000000  63770.428010"
            ],
            "text/html": [
              "\n",
              "  <div id=\"df-f9a3f257-34c4-4719-b554-fb0e90fdb526\">\n",
              "    <div class=\"colab-df-container\">\n",
              "      <div>\n",
              "<style scoped>\n",
              "    .dataframe tbody tr th:only-of-type {\n",
              "        vertical-align: middle;\n",
              "    }\n",
              "\n",
              "    .dataframe tbody tr th {\n",
              "        vertical-align: top;\n",
              "    }\n",
              "\n",
              "    .dataframe thead th {\n",
              "        text-align: right;\n",
              "    }\n",
              "</style>\n",
              "<table border=\"1\" class=\"dataframe\">\n",
              "  <thead>\n",
              "    <tr style=\"text-align: right;\">\n",
              "      <th></th>\n",
              "      <th>age</th>\n",
              "      <th>bmi</th>\n",
              "      <th>children</th>\n",
              "      <th>charges</th>\n",
              "    </tr>\n",
              "  </thead>\n",
              "  <tbody>\n",
              "    <tr>\n",
              "      <th>count</th>\n",
              "      <td>1338.000000</td>\n",
              "      <td>1338.000000</td>\n",
              "      <td>1338.000000</td>\n",
              "      <td>1338.000000</td>\n",
              "    </tr>\n",
              "    <tr>\n",
              "      <th>mean</th>\n",
              "      <td>39.207025</td>\n",
              "      <td>30.663397</td>\n",
              "      <td>1.094918</td>\n",
              "      <td>13270.422265</td>\n",
              "    </tr>\n",
              "    <tr>\n",
              "      <th>std</th>\n",
              "      <td>14.049960</td>\n",
              "      <td>6.098187</td>\n",
              "      <td>1.205493</td>\n",
              "      <td>12110.011237</td>\n",
              "    </tr>\n",
              "    <tr>\n",
              "      <th>min</th>\n",
              "      <td>18.000000</td>\n",
              "      <td>15.960000</td>\n",
              "      <td>0.000000</td>\n",
              "      <td>1121.873900</td>\n",
              "    </tr>\n",
              "    <tr>\n",
              "      <th>25%</th>\n",
              "      <td>27.000000</td>\n",
              "      <td>26.296250</td>\n",
              "      <td>0.000000</td>\n",
              "      <td>4740.287150</td>\n",
              "    </tr>\n",
              "    <tr>\n",
              "      <th>50%</th>\n",
              "      <td>39.000000</td>\n",
              "      <td>30.400000</td>\n",
              "      <td>1.000000</td>\n",
              "      <td>9382.033000</td>\n",
              "    </tr>\n",
              "    <tr>\n",
              "      <th>75%</th>\n",
              "      <td>51.000000</td>\n",
              "      <td>34.693750</td>\n",
              "      <td>2.000000</td>\n",
              "      <td>16639.912515</td>\n",
              "    </tr>\n",
              "    <tr>\n",
              "      <th>max</th>\n",
              "      <td>64.000000</td>\n",
              "      <td>53.130000</td>\n",
              "      <td>5.000000</td>\n",
              "      <td>63770.428010</td>\n",
              "    </tr>\n",
              "  </tbody>\n",
              "</table>\n",
              "</div>\n",
              "      <button class=\"colab-df-convert\" onclick=\"convertToInteractive('df-f9a3f257-34c4-4719-b554-fb0e90fdb526')\"\n",
              "              title=\"Convert this dataframe to an interactive table.\"\n",
              "              style=\"display:none;\">\n",
              "        \n",
              "  <svg xmlns=\"http://www.w3.org/2000/svg\" height=\"24px\"viewBox=\"0 0 24 24\"\n",
              "       width=\"24px\">\n",
              "    <path d=\"M0 0h24v24H0V0z\" fill=\"none\"/>\n",
              "    <path d=\"M18.56 5.44l.94 2.06.94-2.06 2.06-.94-2.06-.94-.94-2.06-.94 2.06-2.06.94zm-11 1L8.5 8.5l.94-2.06 2.06-.94-2.06-.94L8.5 2.5l-.94 2.06-2.06.94zm10 10l.94 2.06.94-2.06 2.06-.94-2.06-.94-.94-2.06-.94 2.06-2.06.94z\"/><path d=\"M17.41 7.96l-1.37-1.37c-.4-.4-.92-.59-1.43-.59-.52 0-1.04.2-1.43.59L10.3 9.45l-7.72 7.72c-.78.78-.78 2.05 0 2.83L4 21.41c.39.39.9.59 1.41.59.51 0 1.02-.2 1.41-.59l7.78-7.78 2.81-2.81c.8-.78.8-2.07 0-2.86zM5.41 20L4 18.59l7.72-7.72 1.47 1.35L5.41 20z\"/>\n",
              "  </svg>\n",
              "      </button>\n",
              "      \n",
              "  <style>\n",
              "    .colab-df-container {\n",
              "      display:flex;\n",
              "      flex-wrap:wrap;\n",
              "      gap: 12px;\n",
              "    }\n",
              "\n",
              "    .colab-df-convert {\n",
              "      background-color: #E8F0FE;\n",
              "      border: none;\n",
              "      border-radius: 50%;\n",
              "      cursor: pointer;\n",
              "      display: none;\n",
              "      fill: #1967D2;\n",
              "      height: 32px;\n",
              "      padding: 0 0 0 0;\n",
              "      width: 32px;\n",
              "    }\n",
              "\n",
              "    .colab-df-convert:hover {\n",
              "      background-color: #E2EBFA;\n",
              "      box-shadow: 0px 1px 2px rgba(60, 64, 67, 0.3), 0px 1px 3px 1px rgba(60, 64, 67, 0.15);\n",
              "      fill: #174EA6;\n",
              "    }\n",
              "\n",
              "    [theme=dark] .colab-df-convert {\n",
              "      background-color: #3B4455;\n",
              "      fill: #D2E3FC;\n",
              "    }\n",
              "\n",
              "    [theme=dark] .colab-df-convert:hover {\n",
              "      background-color: #434B5C;\n",
              "      box-shadow: 0px 1px 3px 1px rgba(0, 0, 0, 0.15);\n",
              "      filter: drop-shadow(0px 1px 2px rgba(0, 0, 0, 0.3));\n",
              "      fill: #FFFFFF;\n",
              "    }\n",
              "  </style>\n",
              "\n",
              "      <script>\n",
              "        const buttonEl =\n",
              "          document.querySelector('#df-f9a3f257-34c4-4719-b554-fb0e90fdb526 button.colab-df-convert');\n",
              "        buttonEl.style.display =\n",
              "          google.colab.kernel.accessAllowed ? 'block' : 'none';\n",
              "\n",
              "        async function convertToInteractive(key) {\n",
              "          const element = document.querySelector('#df-f9a3f257-34c4-4719-b554-fb0e90fdb526');\n",
              "          const dataTable =\n",
              "            await google.colab.kernel.invokeFunction('convertToInteractive',\n",
              "                                                     [key], {});\n",
              "          if (!dataTable) return;\n",
              "\n",
              "          const docLinkHtml = 'Like what you see? Visit the ' +\n",
              "            '<a target=\"_blank\" href=https://colab.research.google.com/notebooks/data_table.ipynb>data table notebook</a>'\n",
              "            + ' to learn more about interactive tables.';\n",
              "          element.innerHTML = '';\n",
              "          dataTable['output_type'] = 'display_data';\n",
              "          await google.colab.output.renderOutput(dataTable, element);\n",
              "          const docLink = document.createElement('div');\n",
              "          docLink.innerHTML = docLinkHtml;\n",
              "          element.appendChild(docLink);\n",
              "        }\n",
              "      </script>\n",
              "    </div>\n",
              "  </div>\n",
              "  "
            ]
          },
          "metadata": {},
          "execution_count": 4
        }
      ],
      "source": [
        "raw_data.describe()"
      ]
    },
    {
      "cell_type": "code",
      "execution_count": 5,
      "metadata": {
        "execution": {
          "iopub.execute_input": "2021-08-13T05:17:00.495096Z",
          "iopub.status.busy": "2021-08-13T05:17:00.494188Z",
          "iopub.status.idle": "2021-08-13T05:17:00.499182Z",
          "shell.execute_reply": "2021-08-13T05:17:00.498287Z",
          "shell.execute_reply.started": "2021-08-13T05:15:55.123220Z"
        },
        "papermill": {
          "duration": 0.045228,
          "end_time": "2021-08-13T05:17:00.499340",
          "exception": false,
          "start_time": "2021-08-13T05:17:00.454112",
          "status": "completed"
        },
        "tags": [],
        "colab": {
          "base_uri": "https://localhost:8080/"
        },
        "id": "0O7ctAv_H9cl",
        "outputId": "2bf240f6-92a9-42b1-89fb-7b391a266c7d"
      },
      "outputs": [
        {
          "output_type": "stream",
          "name": "stdout",
          "text": [
            "<class 'pandas.core.frame.DataFrame'>\n",
            "RangeIndex: 1338 entries, 0 to 1337\n",
            "Data columns (total 7 columns):\n",
            " #   Column    Non-Null Count  Dtype  \n",
            "---  ------    --------------  -----  \n",
            " 0   age       1338 non-null   int64  \n",
            " 1   sex       1338 non-null   object \n",
            " 2   bmi       1338 non-null   float64\n",
            " 3   children  1338 non-null   int64  \n",
            " 4   smoker    1338 non-null   object \n",
            " 5   region    1338 non-null   object \n",
            " 6   charges   1338 non-null   float64\n",
            "dtypes: float64(2), int64(2), object(3)\n",
            "memory usage: 73.3+ KB\n"
          ]
        }
      ],
      "source": [
        "raw_data.info()"
      ]
    },
    {
      "cell_type": "code",
      "execution_count": 6,
      "metadata": {
        "execution": {
          "iopub.execute_input": "2021-08-13T05:17:00.561101Z",
          "iopub.status.busy": "2021-08-13T05:17:00.560458Z",
          "iopub.status.idle": "2021-08-13T05:17:00.567558Z",
          "shell.execute_reply": "2021-08-13T05:17:00.568104Z",
          "shell.execute_reply.started": "2021-08-13T05:15:55.135164Z"
        },
        "papermill": {
          "duration": 0.039446,
          "end_time": "2021-08-13T05:17:00.568246",
          "exception": false,
          "start_time": "2021-08-13T05:17:00.528800",
          "status": "completed"
        },
        "tags": [],
        "colab": {
          "base_uri": "https://localhost:8080/"
        },
        "id": "zYVdaLPUH9cm",
        "outputId": "9ac7dc55-59a9-4b4e-dcf8-6e98ca37706e"
      },
      "outputs": [
        {
          "output_type": "execute_result",
          "data": {
            "text/plain": [
              "age         0\n",
              "sex         0\n",
              "bmi         0\n",
              "children    0\n",
              "smoker      0\n",
              "region      0\n",
              "charges     0\n",
              "dtype: int64"
            ]
          },
          "metadata": {},
          "execution_count": 6
        }
      ],
      "source": [
        "raw_data.isnull().sum()"
      ]
    },
    {
      "cell_type": "markdown",
      "source": [
        "Changing categorical variables"
      ],
      "metadata": {
        "id": "rz1NCEctSYLP"
      }
    },
    {
      "cell_type": "code",
      "execution_count": 7,
      "metadata": {
        "execution": {
          "iopub.execute_input": "2021-08-13T05:17:00.630049Z",
          "iopub.status.busy": "2021-08-13T05:17:00.629313Z",
          "iopub.status.idle": "2021-08-13T05:17:00.638288Z",
          "shell.execute_reply": "2021-08-13T05:17:00.638762Z",
          "shell.execute_reply.started": "2021-08-13T05:15:55.158953Z"
        },
        "papermill": {
          "duration": 0.041748,
          "end_time": "2021-08-13T05:17:00.638935",
          "exception": false,
          "start_time": "2021-08-13T05:17:00.597187",
          "status": "completed"
        },
        "tags": [],
        "id": "W1UALGnTH9cn"
      },
      "outputs": [],
      "source": [
        "raw_data['sex'].replace(to_replace=['male','female'],value=[-1,1],inplace=True)\n",
        "raw_data['smoker'].replace(to_replace=['yes','no'],value=[-1,1],inplace=True)"
      ]
    },
    {
      "cell_type": "code",
      "execution_count": 8,
      "metadata": {
        "execution": {
          "iopub.execute_input": "2021-08-13T05:17:00.707879Z",
          "iopub.status.busy": "2021-08-13T05:17:00.707009Z",
          "iopub.status.idle": "2021-08-13T05:17:00.709945Z",
          "shell.execute_reply": "2021-08-13T05:17:00.709394Z",
          "shell.execute_reply.started": "2021-08-13T05:15:55.177883Z"
        },
        "papermill": {
          "duration": 0.041678,
          "end_time": "2021-08-13T05:17:00.710062",
          "exception": false,
          "start_time": "2021-08-13T05:17:00.668384",
          "status": "completed"
        },
        "tags": [],
        "id": "0AaC-C3MH9cn"
      },
      "outputs": [],
      "source": [
        "raw_data['region'].replace(to_replace=np.unique(raw_data.region),value=[0,1,2,3],inplace=True)\n"
      ]
    },
    {
      "cell_type": "markdown",
      "source": [
        "## Plotting some plots"
      ],
      "metadata": {
        "id": "4BPc8sEOSd-i"
      }
    },
    {
      "cell_type": "code",
      "execution_count": 9,
      "metadata": {
        "execution": {
          "iopub.execute_input": "2021-08-13T05:17:00.887823Z",
          "iopub.status.busy": "2021-08-13T05:17:00.886856Z",
          "iopub.status.idle": "2021-08-13T05:17:01.554871Z",
          "shell.execute_reply": "2021-08-13T05:17:01.555383Z",
          "shell.execute_reply.started": "2021-08-13T05:15:55.198291Z"
        },
        "papermill": {
          "duration": 0.700504,
          "end_time": "2021-08-13T05:17:01.555523",
          "exception": false,
          "start_time": "2021-08-13T05:17:00.855019",
          "status": "completed"
        },
        "tags": [],
        "colab": {
          "base_uri": "https://localhost:8080/",
          "height": 425
        },
        "id": "EgaXEasfH9cp",
        "outputId": "597d0ea0-7007-4991-e82d-dcae4725d538"
      },
      "outputs": [
        {
          "output_type": "stream",
          "name": "stderr",
          "text": [
            "/usr/local/lib/python3.7/dist-packages/seaborn/distributions.py:2619: FutureWarning: `distplot` is a deprecated function and will be removed in a future version. Please adapt your code to use either `displot` (a figure-level function with similar flexibility) or `histplot` (an axes-level function for histograms).\n",
            "  warnings.warn(msg, FutureWarning)\n"
          ]
        },
        {
          "output_type": "display_data",
          "data": {
            "text/plain": [
              "<Figure size 1080x432 with 2 Axes>"
            ],
            "image/png": "[encoded data removed]"
          },
          "metadata": {
            "needs_background": "light"
          }
        }
      ],
      "source": [
        "fig,axes = plt.subplots(1,2,figsize=(15,6))\n",
        "\n",
        "sns.kdeplot(raw_data.age,shade=True,ax=axes[0])\n",
        "sns.distplot(raw_data.age,label=\"Age\",hist=True,ax=axes[1])\n",
        "fig.show()"
      ]
    },
    {
      "cell_type": "code",
      "execution_count": 10,
      "metadata": {
        "execution": {
          "iopub.execute_input": "2021-08-13T05:17:01.620326Z",
          "iopub.status.busy": "2021-08-13T05:17:01.619349Z",
          "iopub.status.idle": "2021-08-13T05:17:02.245269Z",
          "shell.execute_reply": "2021-08-13T05:17:02.244682Z",
          "shell.execute_reply.started": "2021-08-13T05:15:55.980831Z"
        },
        "papermill": {
          "duration": 0.659185,
          "end_time": "2021-08-13T05:17:02.245401",
          "exception": false,
          "start_time": "2021-08-13T05:17:01.586216",
          "status": "completed"
        },
        "tags": [],
        "colab": {
          "base_uri": "https://localhost:8080/",
          "height": 443
        },
        "id": "HO0OoKQUH9cp",
        "outputId": "22163e12-edb8-4a21-971b-d7b12fda2285"
      },
      "outputs": [
        {
          "output_type": "stream",
          "name": "stderr",
          "text": [
            "/usr/local/lib/python3.7/dist-packages/seaborn/distributions.py:2619: FutureWarning: `distplot` is a deprecated function and will be removed in a future version. Please adapt your code to use either `displot` (a figure-level function with similar flexibility) or `histplot` (an axes-level function for histograms).\n",
            "  warnings.warn(msg, FutureWarning)\n"
          ]
        },
        {
          "output_type": "display_data",
          "data": {
            "text/plain": [
              "<Figure size 1080x432 with 2 Axes>"
            ],
            "image/png": "[encoded data removed]"
          },
          "metadata": {
            "needs_background": "light"
          }
        }
      ],
      "source": [
        "fig,axes = plt.subplots(1,2,figsize=(15,6))\n",
        "\n",
        "sns.kdeplot(raw_data.bmi,shade=True,ax=axes[0])\n",
        "sns.distplot(raw_data.bmi,label=\"Age\",hist=True,ax=axes[1])\n",
        "fig.show()"
      ]
    },
    {
      "cell_type": "markdown",
      "source": [
        "Smoker vs Non smoker data\n"
      ],
      "metadata": {
        "id": "m6edUSC7SjDm"
      }
    },
    {
      "cell_type": "code",
      "execution_count": 11,
      "metadata": {
        "execution": {
          "iopub.execute_input": "2021-08-13T05:17:02.319887Z",
          "iopub.status.busy": "2021-08-13T05:17:02.318886Z",
          "iopub.status.idle": "2021-08-13T05:17:03.072936Z",
          "shell.execute_reply": "2021-08-13T05:17:03.073603Z",
          "shell.execute_reply.started": "2021-08-13T05:15:56.585134Z"
        },
        "papermill": {
          "duration": 0.795936,
          "end_time": "2021-08-13T05:17:03.073796",
          "exception": false,
          "start_time": "2021-08-13T05:17:02.277860",
          "status": "completed"
        },
        "tags": [],
        "colab": {
          "base_uri": "https://localhost:8080/",
          "height": 363
        },
        "id": "OxxGa2RPH9cq",
        "outputId": "dd09f1b8-062c-4fbe-e45a-c580ff62b9dc"
      },
      "outputs": [
        {
          "output_type": "stream",
          "name": "stderr",
          "text": [
            "/usr/local/lib/python3.7/dist-packages/seaborn/distributions.py:2619: FutureWarning: `distplot` is a deprecated function and will be removed in a future version. Please adapt your code to use either `displot` (a figure-level function with similar flexibility) or `histplot` (an axes-level function for histograms).\n",
            "  warnings.warn(msg, FutureWarning)\n",
            "/usr/local/lib/python3.7/dist-packages/seaborn/distributions.py:2619: FutureWarning: `distplot` is a deprecated function and will be removed in a future version. Please adapt your code to use either `displot` (a figure-level function with similar flexibility) or `histplot` (an axes-level function for histograms).\n",
            "  warnings.warn(msg, FutureWarning)\n"
          ]
        },
        {
          "output_type": "display_data",
          "data": {
            "text/plain": [
              "<Figure size 1368x360 with 3 Axes>"
            ],
            "image/png": "[encoded data removed]"
          },
          "metadata": {
            "needs_background": "light"
          }
        }
      ],
      "source": [
        "fig,axes = plt.subplots(1,3,figsize=(19,5))\n",
        "sns.distplot(raw_data[(raw_data.smoker == -1)][\"charges\"],ax=axes[0])\n",
        "axes[0].set_title('Distribution of charges for smokers')\n",
        "\n",
        "sns.distplot(raw_data[(raw_data.smoker == 1)]['charges'],ax=axes[1])\n",
        "axes[1].set_title('Distribution of charges for non-smokers')\n",
        "\n",
        "sns.countplot(x=\"smoker\",data=raw_data,ax=axes[2])\n",
        "axes[2].set_title(\"Countplot of Smokers v/s Non Smokers\")\n",
        "\n",
        "fig.show()"
      ]
    },
    {
      "cell_type": "markdown",
      "source": [
        "Male vs female data"
      ],
      "metadata": {
        "id": "jmVxamlBSm1d"
      }
    },
    {
      "cell_type": "code",
      "execution_count": 12,
      "metadata": {
        "execution": {
          "iopub.execute_input": "2021-08-13T05:17:03.158126Z",
          "iopub.status.busy": "2021-08-13T05:17:03.154126Z",
          "iopub.status.idle": "2021-08-13T05:17:03.929679Z",
          "shell.execute_reply": "2021-08-13T05:17:03.929126Z",
          "shell.execute_reply.started": "2021-08-13T05:15:57.357140Z"
        },
        "papermill": {
          "duration": 0.821219,
          "end_time": "2021-08-13T05:17:03.929821",
          "exception": false,
          "start_time": "2021-08-13T05:17:03.108602",
          "status": "completed"
        },
        "tags": [],
        "colab": {
          "base_uri": "https://localhost:8080/",
          "height": 366
        },
        "id": "_UQZkbAaH9cr",
        "outputId": "aa2595ce-0d47-4b3c-b4db-02e373947141"
      },
      "outputs": [
        {
          "output_type": "stream",
          "name": "stderr",
          "text": [
            "/usr/local/lib/python3.7/dist-packages/seaborn/distributions.py:2619: FutureWarning: `distplot` is a deprecated function and will be removed in a future version. Please adapt your code to use either `displot` (a figure-level function with similar flexibility) or `histplot` (an axes-level function for histograms).\n",
            "  warnings.warn(msg, FutureWarning)\n",
            "/usr/local/lib/python3.7/dist-packages/seaborn/distributions.py:2619: FutureWarning: `distplot` is a deprecated function and will be removed in a future version. Please adapt your code to use either `displot` (a figure-level function with similar flexibility) or `histplot` (an axes-level function for histograms).\n",
            "  warnings.warn(msg, FutureWarning)\n"
          ]
        },
        {
          "output_type": "display_data",
          "data": {
            "text/plain": [
              "<Figure size 1368x360 with 3 Axes>"
            ],
            "image/png": "[encoded data removed]"
          },
          "metadata": {
            "needs_background": "light"
          }
        }
      ],
      "source": [
        "fig,axes = plt.subplots(1,3,figsize=(19,5))\n",
        "sns.distplot(raw_data[(raw_data.sex == -1)][\"charges\"],ax=axes[0])\n",
        "axes[0].set_title('Distribution of charges for Males')\n",
        "\n",
        "sns.distplot(raw_data[(raw_data.sex == 1)]['charges'],ax=axes[1])\n",
        "axes[1].set_title('Distribution of charges for Females')\n",
        "\n",
        "sns.countplot(x=\"smoker\",data=raw_data,ax=axes[2])\n",
        "axes[2].set_title(\"Countplot of Males v/s Females\")\n",
        "\n",
        "fig.show()"
      ]
    },
    {
      "cell_type": "markdown",
      "source": [
        "Region wise comparison"
      ],
      "metadata": {
        "id": "-_PfhlvvSp2f"
      }
    },
    {
      "cell_type": "code",
      "execution_count": 13,
      "metadata": {
        "execution": {
          "iopub.execute_input": "2021-08-13T05:17:04.115106Z",
          "iopub.status.busy": "2021-08-13T05:17:04.010795Z",
          "iopub.status.idle": "2021-08-13T05:17:05.401376Z",
          "shell.execute_reply": "2021-08-13T05:17:05.401893Z",
          "shell.execute_reply.started": "2021-08-13T05:15:58.152395Z"
        },
        "papermill": {
          "duration": 1.436365,
          "end_time": "2021-08-13T05:17:05.402036",
          "exception": false,
          "start_time": "2021-08-13T05:17:03.965671",
          "status": "completed"
        },
        "tags": [],
        "colab": {
          "base_uri": "https://localhost:8080/",
          "height": 726
        },
        "id": "BlX2rehPH9cs",
        "outputId": "663ffba3-d3da-41ff-8aae-61565ba253f3"
      },
      "outputs": [
        {
          "output_type": "stream",
          "name": "stderr",
          "text": [
            "/usr/local/lib/python3.7/dist-packages/seaborn/distributions.py:2619: FutureWarning: `distplot` is a deprecated function and will be removed in a future version. Please adapt your code to use either `displot` (a figure-level function with similar flexibility) or `histplot` (an axes-level function for histograms).\n",
            "  warnings.warn(msg, FutureWarning)\n",
            "/usr/local/lib/python3.7/dist-packages/seaborn/distributions.py:2619: FutureWarning: `distplot` is a deprecated function and will be removed in a future version. Please adapt your code to use either `displot` (a figure-level function with similar flexibility) or `histplot` (an axes-level function for histograms).\n",
            "  warnings.warn(msg, FutureWarning)\n",
            "/usr/local/lib/python3.7/dist-packages/seaborn/distributions.py:2619: FutureWarning: `distplot` is a deprecated function and will be removed in a future version. Please adapt your code to use either `displot` (a figure-level function with similar flexibility) or `histplot` (an axes-level function for histograms).\n",
            "  warnings.warn(msg, FutureWarning)\n",
            "/usr/local/lib/python3.7/dist-packages/seaborn/distributions.py:2619: FutureWarning: `distplot` is a deprecated function and will be removed in a future version. Please adapt your code to use either `displot` (a figure-level function with similar flexibility) or `histplot` (an axes-level function for histograms).\n",
            "  warnings.warn(msg, FutureWarning)\n"
          ]
        },
        {
          "output_type": "display_data",
          "data": {
            "text/plain": [
              "<Figure size 1872x648 with 5 Axes>"
            ],
            "image/png": "[encoded data removed]"
          },
          "metadata": {
            "needs_background": "light"
          }
        }
      ],
      "source": [
        "fig,axes = plt.subplots(1,5,figsize=(26,9))\n",
        "for i in range(0,4):\n",
        "    sns.distplot(raw_data[(raw_data.region == raw_data.region.unique()[i])][\"charges\"],ax=axes[i])\n",
        "    axes[i].set_title(f'Distribution of charges for {raw_data.region.unique()[i]}')\n",
        "\n",
        "sns.countplot(x=\"region\",data=raw_data,ax=axes[4])\n",
        "axes[2].set_title(\"Countplot of People Regionwise\")\n",
        "\n",
        "fig.show()"
      ]
    },
    {
      "cell_type": "markdown",
      "source": [
        ""
      ],
      "metadata": {
        "id": "ph0NBuzzSsWv"
      }
    },
    {
      "cell_type": "code",
      "execution_count": 14,
      "metadata": {
        "execution": {
          "iopub.execute_input": "2021-08-13T05:17:05.491951Z",
          "iopub.status.busy": "2021-08-13T05:17:05.490809Z",
          "iopub.status.idle": "2021-08-13T05:17:06.380227Z",
          "shell.execute_reply": "2021-08-13T05:17:06.379688Z",
          "shell.execute_reply.started": "2021-08-13T05:15:59.462678Z"
        },
        "papermill": {
          "duration": 0.939898,
          "end_time": "2021-08-13T05:17:06.380345",
          "exception": false,
          "start_time": "2021-08-13T05:17:05.440447",
          "status": "completed"
        },
        "tags": [],
        "colab": {
          "base_uri": "https://localhost:8080/",
          "height": 462
        },
        "id": "32s2mK4MH9ct",
        "outputId": "7c3ac24a-c9ad-4759-d37d-67b35442c2e5"
      },
      "outputs": [
        {
          "output_type": "display_data",
          "data": {
            "text/plain": [
              "<Figure size 1872x504 with 4 Axes>"
            ],
            "image/png": "[encoded data removed]"
          },
          "metadata": {
            "needs_background": "light"
          }
        }
      ],
      "source": [
        "c = ['age','bmi','children','charges']\n",
        "fig,axes = plt.subplots(1,4,figsize=(26,7))\n",
        "for i in range(0,4):\n",
        "    sns.boxplot(x = c[i],data = raw_data,ax=axes[i])"
      ]
    },
    {
      "cell_type": "markdown",
      "source": [
        "Correlation database"
      ],
      "metadata": {
        "id": "Ijmu_7OIStEX"
      }
    },
    {
      "cell_type": "code",
      "execution_count": 15,
      "metadata": {
        "execution": {
          "iopub.execute_input": "2021-08-13T05:17:06.464933Z",
          "iopub.status.busy": "2021-08-13T05:17:06.464229Z",
          "iopub.status.idle": "2021-08-13T05:17:06.918861Z",
          "shell.execute_reply": "2021-08-13T05:17:06.919380Z",
          "shell.execute_reply.started": "2021-08-13T05:16:00.365583Z"
        },
        "papermill": {
          "duration": 0.500426,
          "end_time": "2021-08-13T05:17:06.919526",
          "exception": false,
          "start_time": "2021-08-13T05:17:06.419100",
          "status": "completed"
        },
        "tags": [],
        "colab": {
          "base_uri": "https://localhost:8080/",
          "height": 317
        },
        "id": "7urBnSqGH9ct",
        "outputId": "3ef36353-a1b8-46d6-fb7e-72e55795ce3b"
      },
      "outputs": [
        {
          "output_type": "execute_result",
          "data": {
            "text/plain": [
              "<matplotlib.axes._subplots.AxesSubplot at 0x7f1b9ff7ff10>"
            ]
          },
          "metadata": {},
          "execution_count": 15
        },
        {
          "output_type": "display_data",
          "data": {
            "text/plain": [
              "<Figure size 432x288 with 2 Axes>"
            ],
            "image/png": "[encoded data removed]"
          },
          "metadata": {
            "needs_background": "light"
          }
        }
      ],
      "source": [
        "corr = raw_data.corr()\n",
        "sns.heatmap(corr,annot=True)"
      ]
    },
    {
      "cell_type": "code",
      "execution_count": 16,
      "metadata": {
        "execution": {
          "iopub.execute_input": "2021-08-13T05:17:07.004236Z",
          "iopub.status.busy": "2021-08-13T05:17:07.003539Z",
          "iopub.status.idle": "2021-08-13T05:17:07.009164Z",
          "shell.execute_reply": "2021-08-13T05:17:07.009688Z",
          "shell.execute_reply.started": "2021-08-13T05:16:00.949791Z"
        },
        "papermill": {
          "duration": 0.049574,
          "end_time": "2021-08-13T05:17:07.009850",
          "exception": false,
          "start_time": "2021-08-13T05:17:06.960276",
          "status": "completed"
        },
        "tags": [],
        "id": "br730ipjH9cu"
      },
      "outputs": [],
      "source": [
        "raw_data['bmi'] = (raw_data['bmi'] - raw_data['bmi'].mean()) / raw_data['bmi'].std()\n"
      ]
    },
    {
      "cell_type": "markdown",
      "source": [
        "Train test split data"
      ],
      "metadata": {
        "id": "-PPH6Ae4SvhI"
      }
    },
    {
      "cell_type": "code",
      "execution_count": 17,
      "metadata": {
        "execution": {
          "iopub.execute_input": "2021-08-13T05:17:07.097560Z",
          "iopub.status.busy": "2021-08-13T05:17:07.096901Z",
          "iopub.status.idle": "2021-08-13T05:17:07.109580Z",
          "shell.execute_reply": "2021-08-13T05:17:07.110141Z",
          "shell.execute_reply.started": "2021-08-13T05:16:00.956919Z"
        },
        "papermill": {
          "duration": 0.058439,
          "end_time": "2021-08-13T05:17:07.110294",
          "exception": false,
          "start_time": "2021-08-13T05:17:07.051855",
          "status": "completed"
        },
        "tags": [],
        "id": "bIT6XiAXH9cv"
      },
      "outputs": [],
      "source": [
        "def train_test_split(df, split_ratio = 0.8,seed = 42):\n",
        "  \n",
        "    \n",
        "    trainX = df.sample(frac=split_ratio,random_state = seed)\n",
        "    testX = df.drop(trainX.index)\n",
        "    trainX = trainX.reset_index(drop=True)\n",
        "    testX = testX.reset_index(drop=True)\n",
        "    trainY = trainX.charges.values\n",
        "    trainY = trainY.reshape(trainY.shape[0],1)\n",
        "    testY = testX.charges.values\n",
        "    testY = testY.reshape(testY.shape[0],1)\n",
        "    trainX.drop(\"charges\",axis=1,inplace=True)\n",
        "    trainX.drop('children',axis=1,inplace=True)\n",
        "    trainX.drop('sex',axis=1,inplace=True)\n",
        "    trainX.drop('region',axis=1,inplace=True) \n",
        "    testX.drop('children',axis=1,inplace=True)\n",
        "    testX.drop('sex',axis=1,inplace=True)\n",
        "    testX.drop('region',axis=1,inplace=True)\n",
        "    testX.drop(\"charges\",axis=1,inplace=True)\n",
        "    return trainX,trainY,testX,testY\n"
      ]
    },
    {
      "cell_type": "code",
      "execution_count": 18,
      "metadata": {
        "execution": {
          "iopub.execute_input": "2021-08-13T05:17:07.199043Z",
          "iopub.status.busy": "2021-08-13T05:17:07.198013Z",
          "iopub.status.idle": "2021-08-13T05:17:07.210731Z",
          "shell.execute_reply": "2021-08-13T05:17:07.210175Z",
          "shell.execute_reply.started": "2021-08-13T05:16:00.973545Z"
        },
        "papermill": {
          "duration": 0.059159,
          "end_time": "2021-08-13T05:17:07.210879",
          "exception": false,
          "start_time": "2021-08-13T05:17:07.151720",
          "status": "completed"
        },
        "tags": [],
        "id": "uUPkvaIAH9cv"
      },
      "outputs": [],
      "source": [
        "trainX,trainY,testX,testY = train_test_split(raw_data)"
      ]
    },
    {
      "cell_type": "markdown",
      "source": [
        "Functions to load data "
      ],
      "metadata": {
        "id": "iu9-ki4hSz1g"
      }
    },
    {
      "cell_type": "code",
      "execution_count": 19,
      "metadata": {
        "execution": {
          "iopub.execute_input": "2021-08-13T05:17:07.300351Z",
          "iopub.status.busy": "2021-08-13T05:17:07.299632Z",
          "iopub.status.idle": "2021-08-13T05:17:07.301597Z",
          "shell.execute_reply": "2021-08-13T05:17:07.302065Z",
          "shell.execute_reply.started": "2021-08-13T05:16:01.003618Z"
        },
        "papermill": {
          "duration": 0.050987,
          "end_time": "2021-08-13T05:17:07.302222",
          "exception": false,
          "start_time": "2021-08-13T05:17:07.251235",
          "status": "completed"
        },
        "tags": [],
        "id": "F3bm_TmhH9cw"
      },
      "outputs": [],
      "source": [
        "def data_preparation(train,test):\n",
        "   \n",
        "    train = np.array(train)\n",
        "    test = np.array(test)\n",
        "    trainX = np.array(list(map(lambda x: np.append([1],x) , train)))\n",
        "    testX = np.array(list(map(lambda x: np.append([1],x) , test)))\n",
        "    return trainX,testX"
      ]
    },
    {
      "cell_type": "code",
      "execution_count": 20,
      "metadata": {
        "execution": {
          "iopub.execute_input": "2021-08-13T05:17:07.386698Z",
          "iopub.status.busy": "2021-08-13T05:17:07.386073Z",
          "iopub.status.idle": "2021-08-13T05:17:07.405626Z",
          "shell.execute_reply": "2021-08-13T05:17:07.406135Z",
          "shell.execute_reply.started": "2021-08-13T05:16:01.015049Z"
        },
        "papermill": {
          "duration": 0.063312,
          "end_time": "2021-08-13T05:17:07.406306",
          "exception": false,
          "start_time": "2021-08-13T05:17:07.342994",
          "status": "completed"
        },
        "tags": [],
        "id": "l_G4YTjPH9cx"
      },
      "outputs": [],
      "source": [
        "trainX,testX = data_preparation(trainX,testX)"
      ]
    },
    {
      "cell_type": "markdown",
      "source": [
        "Mean squared error function"
      ],
      "metadata": {
        "id": "425W2vnsS_WQ"
      }
    },
    {
      "cell_type": "code",
      "execution_count": 21,
      "metadata": {
        "execution": {
          "iopub.execute_input": "2021-08-13T05:17:07.570755Z",
          "iopub.status.busy": "2021-08-13T05:17:07.570132Z",
          "iopub.status.idle": "2021-08-13T05:17:07.575520Z",
          "shell.execute_reply": "2021-08-13T05:17:07.576025Z",
          "shell.execute_reply.started": "2021-08-13T05:16:01.049071Z"
        },
        "papermill": {
          "duration": 0.048691,
          "end_time": "2021-08-13T05:17:07.576161",
          "exception": false,
          "start_time": "2021-08-13T05:17:07.527470",
          "status": "completed"
        },
        "tags": [],
        "id": "gQWBUsjkH9cy"
      },
      "outputs": [],
      "source": [
        "def mse(train,theta_final,train_labels):\n",
        "   \n",
        "    m = train.shape[0]\n",
        "    Y_hat = np.matmul(train,theta_final)\n",
        "    return (1/(2*m)) * np.sum(np.square(Y_hat - train_labels))\n"
      ]
    },
    {
      "cell_type": "markdown",
      "source": [
        "Derivative of loss function for gradient descent"
      ],
      "metadata": {
        "id": "Bj536f7tTCHQ"
      }
    },
    {
      "cell_type": "code",
      "execution_count": 22,
      "metadata": {
        "execution": {
          "iopub.execute_input": "2021-08-13T05:17:07.660512Z",
          "iopub.status.busy": "2021-08-13T05:17:07.659730Z",
          "iopub.status.idle": "2021-08-13T05:17:07.665943Z",
          "shell.execute_reply": "2021-08-13T05:17:07.665307Z",
          "shell.execute_reply.started": "2021-08-13T05:16:01.059623Z"
        },
        "papermill": {
          "duration": 0.049424,
          "end_time": "2021-08-13T05:17:07.666050",
          "exception": false,
          "start_time": "2021-08-13T05:17:07.616626",
          "status": "completed"
        },
        "tags": [],
        "id": "BiY8utlUH9cy"
      },
      "outputs": [],
      "source": [
        "\n",
        "def delta(train,train_labels,p):\n",
        "  \n",
        "    m = train.shape[0]\n",
        "    y_hat = np.dot(train, p)\n",
        "    a = np.dot(train.T,(y_hat - train_labels))\n",
        "    return  (2/m)*a"
      ]
    },
    {
      "cell_type": "markdown",
      "source": [
        "Gradient descent calculation"
      ],
      "metadata": {
        "id": "D7F8X0aZTMvf"
      }
    },
    {
      "cell_type": "code",
      "execution_count": 23,
      "metadata": {
        "execution": {
          "iopub.execute_input": "2021-08-13T05:17:07.749806Z",
          "iopub.status.busy": "2021-08-13T05:17:07.749153Z",
          "iopub.status.idle": "2021-08-13T05:17:07.754747Z",
          "shell.execute_reply": "2021-08-13T05:17:07.755323Z",
          "shell.execute_reply.started": "2021-08-13T05:16:01.077547Z"
        },
        "papermill": {
          "duration": 0.049298,
          "end_time": "2021-08-13T05:17:07.755457",
          "exception": false,
          "start_time": "2021-08-13T05:17:07.706159",
          "status": "completed"
        },
        "tags": [],
        "id": "FwXCN8UPH9cy"
      },
      "outputs": [],
      "source": [
        "theta_initial = np.zeros((trainX.shape[1],1))\n",
        "theta_final =  np.zeros((trainX.shape[1],1))\n",
        "m = trainX.shape[0]\n",
        "iterations = []\n",
        "residual_points = [0]\n",
        "lr = 10 ** (-1)"
      ]
    },
    {
      "cell_type": "code",
      "execution_count": 24,
      "metadata": {
        "execution": {
          "iopub.execute_input": "2021-08-13T05:17:07.919956Z",
          "iopub.status.busy": "2021-08-13T05:17:07.919251Z",
          "iopub.status.idle": "2021-08-13T05:17:15.490348Z",
          "shell.execute_reply": "2021-08-13T05:17:15.490865Z",
          "shell.execute_reply.started": "2021-08-13T05:16:01.094037Z"
        },
        "papermill": {
          "duration": 7.614996,
          "end_time": "2021-08-13T05:17:15.491009",
          "exception": false,
          "start_time": "2021-08-13T05:17:07.876013",
          "status": "completed"
        },
        "tags": [],
        "colab": {
          "base_uri": "https://localhost:8080/",
          "height": 49,
          "referenced_widgets": [
            "ef89911deb4940948b84730b23cb0d37",
            "a68035919bd343eebe25495661aba11c",
            "e873d32c28564cba8a753a35593ba6a8",
            "fd2f5da966284ac1bfd6b31e0aa6e734",
            "dfcf399874e6456e981283c0ef795a41",
            "7c679be89efe4f80bedd0e4a8486a584",
            "d9d8a6f5763142249b833a35275f3667",
            "a269134ff2ed45e8ad6d7fcbc5b8343b",
            "7cd37f60864e455895d75adf62b54826",
            "fc4db11e812c4022924151ba7d27c9c8",
            "79b43a8f355b47f58eed1d806dc204e3"
          ]
        },
        "id": "YSprzGQLH9cz",
        "outputId": "ee2e5630-1691-4877-9b52-955a0bd3486d"
      },
      "outputs": [
        {
          "output_type": "display_data",
          "data": {
            "text/plain": [
              "  0%|          | 0/140478 [00:00<?, ?it/s]"
            ],
            "application/vnd.jupyter.widget-view+json": {
              "version_major": 2,
              "version_minor": 0,
              "model_id": "ef89911deb4940948b84730b23cb0d37"
            }
          },
          "metadata": {}
        }
      ],
      "source": [
        "i = 0\n",
        "for p in tqdm_notebook(range(140478)):\n",
        "    theta_final = theta_initial - (lr) * delta(trainX,trainY,theta_initial) * (1/ m)\n",
        "    E = int(mse(trainX,theta_final,trainY))\n",
        "    residual_points.append(E)\n",
        "    if residual_points[i] == residual_points[i-1] :\n",
        "        break\n",
        "\n",
        "    iterations.append(i)\n",
        "    theta_initial = theta_final\n",
        "    i +=1"
      ]
    },
    {
      "cell_type": "markdown",
      "source": [
        "Function to find R2 value"
      ],
      "metadata": {
        "id": "iEwHo6HNTPjJ"
      }
    },
    {
      "cell_type": "code",
      "execution_count": 25,
      "metadata": {
        "execution": {
          "iopub.execute_input": "2021-08-13T05:17:15.664473Z",
          "iopub.status.busy": "2021-08-13T05:17:15.663402Z",
          "iopub.status.idle": "2021-08-13T05:17:15.666182Z",
          "shell.execute_reply": "2021-08-13T05:17:15.666816Z",
          "shell.execute_reply.started": "2021-08-13T05:16:09.366325Z"
        },
        "papermill": {
          "duration": 0.051518,
          "end_time": "2021-08-13T05:17:15.666967",
          "exception": false,
          "start_time": "2021-08-13T05:17:15.615449",
          "status": "completed"
        },
        "tags": [],
        "id": "2w9xMiwsH9c1"
      },
      "outputs": [],
      "source": [
        "def R2_Statistics(theta_final):\n",
        "    sst = np.sum((testY-testY.mean())**2)\n",
        "    ssr = np.sum((np.matmul(testX,theta_final)-testY)**2)\n",
        "    r2 = 1-(ssr/sst)\n",
        "    return(r2)"
      ]
    },
    {
      "cell_type": "markdown",
      "source": [
        "R2 value ( closer to 1 is better)"
      ],
      "metadata": {
        "id": "-4TYEk_tTTW-"
      }
    },
    {
      "cell_type": "code",
      "execution_count": 26,
      "metadata": {
        "execution": {
          "iopub.execute_input": "2021-08-13T05:17:15.839214Z",
          "iopub.status.busy": "2021-08-13T05:17:15.838226Z",
          "iopub.status.idle": "2021-08-13T05:17:15.842209Z",
          "shell.execute_reply": "2021-08-13T05:17:15.842704Z",
          "shell.execute_reply.started": "2021-08-13T05:16:09.374205Z"
        },
        "papermill": {
          "duration": 0.051606,
          "end_time": "2021-08-13T05:17:15.842880",
          "exception": false,
          "start_time": "2021-08-13T05:17:15.791274",
          "status": "completed"
        },
        "tags": [],
        "colab": {
          "base_uri": "https://localhost:8080/"
        },
        "id": "ght72F8SH9c2",
        "outputId": "deecc316-0fd0-4db5-a406-49225028b228"
      },
      "outputs": [
        {
          "output_type": "execute_result",
          "data": {
            "text/plain": [
              "0.7474268582126502"
            ]
          },
          "metadata": {},
          "execution_count": 26
        }
      ],
      "source": [
        "R2_Statistics(theta_final)"
      ]
    },
    {
      "cell_type": "markdown",
      "source": [
        "Plotting residual error with each iteration"
      ],
      "metadata": {
        "id": "C_4W9EYKTXHw"
      }
    },
    {
      "cell_type": "code",
      "execution_count": 27,
      "metadata": {
        "execution": {
          "iopub.execute_input": "2021-08-13T05:17:15.938548Z",
          "iopub.status.busy": "2021-08-13T05:17:15.937492Z",
          "iopub.status.idle": "2021-08-13T05:17:18.101751Z",
          "shell.execute_reply": "2021-08-13T05:17:18.102284Z",
          "shell.execute_reply.started": "2021-08-13T05:16:22.598748Z"
        },
        "papermill": {
          "duration": 2.218043,
          "end_time": "2021-08-13T05:17:18.102426",
          "exception": false,
          "start_time": "2021-08-13T05:17:15.884383",
          "status": "completed"
        },
        "tags": [],
        "colab": {
          "base_uri": "https://localhost:8080/",
          "height": 293
        },
        "id": "AadyidlZH9c3",
        "outputId": "d1e964e1-4bc3-4a30-dad0-8cd3562be762"
      },
      "outputs": [
        {
          "output_type": "execute_result",
          "data": {
            "text/plain": [
              "<matplotlib.collections.PathCollection at 0x7f1ba0005ed0>"
            ]
          },
          "metadata": {},
          "execution_count": 27
        },
        {
          "output_type": "display_data",
          "data": {
            "text/plain": [
              "<Figure size 432x288 with 1 Axes>"
            ],
            "image/png": "[encoded data removed]"
          },
          "metadata": {
            "needs_background": "light"
          }
        }
      ],
      "source": [
        "plt.scatter(x = iterations,y=residual_points[1:])"
      ]
    },
    {
      "cell_type": "code",
      "execution_count": null,
      "metadata": {
        "papermill": {
          "duration": 0.042701,
          "end_time": "2021-08-13T05:17:18.360157",
          "exception": false,
          "start_time": "2021-08-13T05:17:18.317456",
          "status": "completed"
        },
        "tags": [],
        "id": "gEM0srJfH9c5"
      },
      "outputs": [],
      "source": [
        ""
      ]
    },
    {
      "cell_type": "code",
      "execution_count": null,
      "metadata": {
        "papermill": {
          "duration": 0.042307,
          "end_time": "2021-08-13T05:17:18.445238",
          "exception": false,
          "start_time": "2021-08-13T05:17:18.402931",
          "status": "completed"
        },
        "tags": [],
        "id": "M5kMSHY_H9c5"
      },
      "outputs": [],
      "source": [
        ""
      ]
    }
  ],
  "metadata": {
    "kernelspec": {
      "display_name": "Python 3",
      "language": "python",
      "name": "python3"
    },
    "language_info": {
      "codemirror_mode": {
        "name": "ipython",
        "version": 3
      },
      "file_extension": ".py",
      "mimetype": "text/x-python",
      "name": "python",
      "nbconvert_exporter": "python",
      "pygments_lexer": "ipython3",
      "version": "3.7.6"
    },
    "papermill": {
      "duration": 25.68003,
      "end_time": "2021-08-13T05:17:18.596145",
      "environment_variables": {},
      "exception": null,
      "input_path": "__notebook__.ipynb",
      "output_path": "__notebook__.ipynb",
      "parameters": {},
      "start_time": "2021-08-13T05:16:52.916115",
      "version": "2.1.0"
    },
    "widgets": {
      "application/vnd.jupyter.widget-state+json": {
        "ef89911deb4940948b84730b23cb0d37": {
          "model_module": "@jupyter-widgets/controls",
          "model_name": "HBoxModel",
          "model_module_version": "1.5.0",
          "state": {
            "_dom_classes": [],
            "_model_module": "@jupyter-widgets/controls",
            "_model_module_version": "1.5.0",
            "_model_name": "HBoxModel",
            "_view_count": null,
            "_view_module": "@jupyter-widgets/controls",
            "_view_module_version": "1.5.0",
            "_view_name": "HBoxView",
            "box_style": "",
            "children": [
              "IPY_MODEL_a68035919bd343eebe25495661aba11c",
              "IPY_MODEL_e873d32c28564cba8a753a35593ba6a8",
              "IPY_MODEL_fd2f5da966284ac1bfd6b31e0aa6e734"
            ],
            "layout": "IPY_MODEL_dfcf399874e6456e981283c0ef795a41"
          }
        },
        "a68035919bd343eebe25495661aba11c": {
          "model_module": "@jupyter-widgets/controls",
          "model_name": "HTMLModel",
          "model_module_version": "1.5.0",
          "state": {
            "_dom_classes": [],
            "_model_module": "@jupyter-widgets/controls",
            "_model_module_version": "1.5.0",
            "_model_name": "HTMLModel",
            "_view_count": null,
            "_view_module": "@jupyter-widgets/controls",
            "_view_module_version": "1.5.0",
            "_view_name": "HTMLView",
            "description": "",
            "description_tooltip": null,
            "layout": "IPY_MODEL_7c679be89efe4f80bedd0e4a8486a584",
            "placeholder": "​",
            "style": "IPY_MODEL_d9d8a6f5763142249b833a35275f3667",
            "value": "100%"
          }
        },
        "e873d32c28564cba8a753a35593ba6a8": {
          "model_module": "@jupyter-widgets/controls",
          "model_name": "FloatProgressModel",
          "model_module_version": "1.5.0",
          "state": {
            "_dom_classes": [],
            "_model_module": "@jupyter-widgets/controls",
            "_model_module_version": "1.5.0",
            "_model_name": "FloatProgressModel",
            "_view_count": null,
            "_view_module": "@jupyter-widgets/controls",
            "_view_module_version": "1.5.0",
            "_view_name": "ProgressView",
            "bar_style": "success",
            "description": "",
            "description_tooltip": null,
            "layout": "IPY_MODEL_a269134ff2ed45e8ad6d7fcbc5b8343b",
            "max": 140478,
            "min": 0,
            "orientation": "horizontal",
            "style": "IPY_MODEL_7cd37f60864e455895d75adf62b54826",
            "value": 140478
          }
        },
        "fd2f5da966284ac1bfd6b31e0aa6e734": {
          "model_module": "@jupyter-widgets/controls",
          "model_name": "HTMLModel",
          "model_module_version": "1.5.0",
          "state": {
            "_dom_classes": [],
            "_model_module": "@jupyter-widgets/controls",
            "_model_module_version": "1.5.0",
            "_model_name": "HTMLModel",
            "_view_count": null,
            "_view_module": "@jupyter-widgets/controls",
            "_view_module_version": "1.5.0",
            "_view_name": "HTMLView",
            "description": "",
            "description_tooltip": null,
            "layout": "IPY_MODEL_fc4db11e812c4022924151ba7d27c9c8",
            "placeholder": "​",
            "style": "IPY_MODEL_79b43a8f355b47f58eed1d806dc204e3",
            "value": " 140478/140478 [00:13&lt;00:00, 7833.24it/s]"
          }
        },
        "dfcf399874e6456e981283c0ef795a41": {
          "model_module": "@jupyter-widgets/base",
          "model_name": "LayoutModel",
          "model_module_version": "1.2.0",
          "state": {
            "_model_module": "@jupyter-widgets/base",
            "_model_module_version": "1.2.0",
            "_model_name": "LayoutModel",
            "_view_count": null,
            "_view_module": "@jupyter-widgets/base",
            "_view_module_version": "1.2.0",
            "_view_name": "LayoutView",
            "align_content": null,
            "align_items": null,
            "align_self": null,
            "border": null,
            "bottom": null,
            "display": null,
            "flex": null,
            "flex_flow": null,
            "grid_area": null,
            "grid_auto_columns": null,
            "grid_auto_flow": null,
            "grid_auto_rows": null,
            "grid_column": null,
            "grid_gap": null,
            "grid_row": null,
            "grid_template_areas": null,
            "grid_template_columns": null,
            "grid_template_rows": null,
            "height": null,
            "justify_content": null,
            "justify_items": null,
            "left": null,
            "margin": null,
            "max_height": null,
            "max_width": null,
            "min_height": null,
            "min_width": null,
            "object_fit": null,
            "object_position": null,
            "order": null,
            "overflow": null,
            "overflow_x": null,
            "overflow_y": null,
            "padding": null,
            "right": null,
            "top": null,
            "visibility": null,
            "width": null
          }
        },
        "7c679be89efe4f80bedd0e4a8486a584": {
          "model_module": "@jupyter-widgets/base",
          "model_name": "LayoutModel",
          "model_module_version": "1.2.0",
          "state": {
            "_model_module": "@jupyter-widgets/base",
            "_model_module_version": "1.2.0",
            "_model_name": "LayoutModel",
            "_view_count": null,
            "_view_module": "@jupyter-widgets/base",
            "_view_module_version": "1.2.0",
            "_view_name": "LayoutView",
            "align_content": null,
            "align_items": null,
            "align_self": null,
            "border": null,
            "bottom": null,
            "display": null,
            "flex": null,
            "flex_flow": null,
            "grid_area": null,
            "grid_auto_columns": null,
            "grid_auto_flow": null,
            "grid_auto_rows": null,
            "grid_column": null,
            "grid_gap": null,
            "grid_row": null,
            "grid_template_areas": null,
            "grid_template_columns": null,
            "grid_template_rows": null,
            "height": null,
            "justify_content": null,
            "justify_items": null,
            "left": null,
            "margin": null,
            "max_height": null,
            "max_width": null,
            "min_height": null,
            "min_width": null,
            "object_fit": null,
            "object_position": null,
            "order": null,
            "overflow": null,
            "overflow_x": null,
            "overflow_y": null,
            "padding": null,
            "right": null,
            "top": null,
            "visibility": null,
            "width": null
          }
        },
        "d9d8a6f5763142249b833a35275f3667": {
          "model_module": "@jupyter-widgets/controls",
          "model_name": "DescriptionStyleModel",
          "model_module_version": "1.5.0",
          "state": {
            "_model_module": "@jupyter-widgets/controls",
            "_model_module_version": "1.5.0",
            "_model_name": "DescriptionStyleModel",
            "_view_count": null,
            "_view_module": "@jupyter-widgets/base",
            "_view_module_version": "1.2.0",
            "_view_name": "StyleView",
            "description_width": ""
          }
        },
        "a269134ff2ed45e8ad6d7fcbc5b8343b": {
          "model_module": "@jupyter-widgets/base",
          "model_name": "LayoutModel",
          "model_module_version": "1.2.0",
          "state": {
            "_model_module": "@jupyter-widgets/base",
            "_model_module_version": "1.2.0",
            "_model_name": "LayoutModel",
            "_view_count": null,
            "_view_module": "@jupyter-widgets/base",
            "_view_module_version": "1.2.0",
            "_view_name": "LayoutView",
            "align_content": null,
            "align_items": null,
            "align_self": null,
            "border": null,
            "bottom": null,
            "display": null,
            "flex": null,
            "flex_flow": null,
            "grid_area": null,
            "grid_auto_columns": null,
            "grid_auto_flow": null,
            "grid_auto_rows": null,
            "grid_column": null,
            "grid_gap": null,
            "grid_row": null,
            "grid_template_areas": null,
            "grid_template_columns": null,
            "grid_template_rows": null,
            "height": null,
            "justify_content": null,
            "justify_items": null,
            "left": null,
            "margin": null,
            "max_height": null,
            "max_width": null,
            "min_height": null,
            "min_width": null,
            "object_fit": null,
            "object_position": null,
            "order": null,
            "overflow": null,
            "overflow_x": null,
            "overflow_y": null,
            "padding": null,
            "right": null,
            "top": null,
            "visibility": null,
            "width": null
          }
        },
        "7cd37f60864e455895d75adf62b54826": {
          "model_module": "@jupyter-widgets/controls",
          "model_name": "ProgressStyleModel",
          "model_module_version": "1.5.0",
          "state": {
            "_model_module": "@jupyter-widgets/controls",
            "_model_module_version": "1.5.0",
            "_model_name": "ProgressStyleModel",
            "_view_count": null,
            "_view_module": "@jupyter-widgets/base",
            "_view_module_version": "1.2.0",
            "_view_name": "StyleView",
            "bar_color": null,
            "description_width": ""
          }
        },
        "fc4db11e812c4022924151ba7d27c9c8": {
          "model_module": "@jupyter-widgets/base",
          "model_name": "LayoutModel",
          "model_module_version": "1.2.0",
          "state": {
            "_model_module": "@jupyter-widgets/base",
            "_model_module_version": "1.2.0",
            "_model_name": "LayoutModel",
            "_view_count": null,
            "_view_module": "@jupyter-widgets/base",
            "_view_module_version": "1.2.0",
            "_view_name": "LayoutView",
            "align_content": null,
            "align_items": null,
            "align_self": null,
            "border": null,
            "bottom": null,
            "display": null,
            "flex": null,
            "flex_flow": null,
            "grid_area": null,
            "grid_auto_columns": null,
            "grid_auto_flow": null,
            "grid_auto_rows": null,
            "grid_column": null,
            "grid_gap": null,
            "grid_row": null,
            "grid_template_areas": null,
            "grid_template_columns": null,
            "grid_template_rows": null,
            "height": null,
            "justify_content": null,
            "justify_items": null,
            "left": null,
            "margin": null,
            "max_height": null,
            "max_width": null,
            "min_height": null,
            "min_width": null,
            "object_fit": null,
            "object_position": null,
            "order": null,
            "overflow": null,
            "overflow_x": null,
            "overflow_y": null,
            "padding": null,
            "right": null,
            "top": null,
            "visibility": null,
            "width": null
          }
        },
        "79b43a8f355b47f58eed1d806dc204e3": {
          "model_module": "@jupyter-widgets/controls",
          "model_name": "DescriptionStyleModel",
          "model_module_version": "1.5.0",
          "state": {
            "_model_module": "@jupyter-widgets/controls",
            "_model_module_version": "1.5.0",
            "_model_name": "DescriptionStyleModel",
            "_view_count": null,
            "_view_module": "@jupyter-widgets/base",
            "_view_module_version": "1.2.0",
            "_view_name": "StyleView",
            "description_width": ""
          }
        }
      }
    },
    "colab": {
      "name": "linear-regression.ipynb",
      "provenance": [],
      "collapsed_sections": []
    }
  },
  "nbformat": 4,
  "nbformat_minor": 0
}